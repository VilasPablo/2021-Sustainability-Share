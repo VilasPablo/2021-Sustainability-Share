{
 "cells": [
  {
   "cell_type": "code",
   "execution_count": 1,
   "metadata": {
    "ExecuteTime": {
     "end_time": "2021-04-05T07:48:22.989811Z",
     "start_time": "2021-04-05T07:48:22.603904Z"
    }
   },
   "outputs": [],
   "source": [
    "import pandas as pd\n",
    "import numpy as np\n",
    "import datetime\n",
    "import ast\n",
    "\n",
    "from sqlalchemy import create_engine"
   ]
  },
  {
   "cell_type": "code",
   "execution_count": 11,
   "metadata": {
    "ExecuteTime": {
     "end_time": "2021-04-05T08:44:44.955228Z",
     "start_time": "2021-04-05T08:44:44.826270Z"
    }
   },
   "outputs": [],
   "source": [
    "# Indices details as ticker, market...\n",
    "credentials = ast.literal_eval(open(r\"C:\\Users\\pvilas\\OneDrive - unizar.es\\Python\\credentials.txt\", \"r\").read())\n",
    "sql_engine = create_engine(credentials['sqlalchemy'][0]+ 'market_index')\n",
    "\n",
    "equity_indices_detail=pd.read_excel(r'C:\\Users\\pvilas\\OneDrive - unizar.es\\Tesis\\Artículo 3 Sustainability Journal\\Factsheet\\index_details.xlsx')\n",
    "equity_indices_detail.to_sql('index_details', sql_engine, if_exists=\"replace\", index=False)"
   ]
  },
  {
   "cell_type": "code",
   "execution_count": null,
   "metadata": {
    "ExecuteTime": {
     "end_time": "2020-12-31T16:19:00.779449Z",
     "start_time": "2020-12-31T16:19:00.738618Z"
    }
   },
   "outputs": [],
   "source": []
  },
  {
   "cell_type": "code",
   "execution_count": 9,
   "metadata": {
    "ExecuteTime": {
     "end_time": "2021-04-05T08:31:17.398589Z",
     "start_time": "2021-04-05T08:27:15.975102Z"
    }
   },
   "outputs": [
    {
     "name": "stdout",
     "output_type": "stream",
     "text": [
      "LFT4GBGL\n",
      "LFT4G100\n",
      "LAWDVLP\n",
      "LFT4GBEU\n",
      "LAWDVER\n",
      "LFT4GBUS\n",
      "LFT4U100\n",
      "LWIUSAM\n"
     ]
    }
   ],
   "source": [
    "# indices constituents to database\n",
    "# change numeric date to datetime\n",
    "def obtain_date(numeric_date):    \n",
    "    numeric_date = str(numeric_date)\n",
    "    numeric_date = datetime.datetime(int(numeric_date[0:4]),int(numeric_date[4:6]),1)\n",
    "    return numeric_date\n",
    "\n",
    "equity_indices_details = pd.read_sql('index_details', sql_engine)\n",
    "for row in range(0, len(equity_indices_details)):\n",
    "    index_ticker = equity_indices_details.at[row,'index_ticker']\n",
    "    # we read each listado with the information of the index\n",
    "    df_index = pd.read_excel(r'C:\\Users\\pvilas\\OneDrive - unizar.es\\Tesis\\Artículo 3 Sustainability Journal\\1. Data\\Indices Composition\\%s.xlsx' % index_ticker)\n",
    "    df_index['index_ticker'] = index_ticker # We add a column with the ticker of the index\n",
    "    df_index = df_index.loc[:, ['index_ticker', 'Fecha Numerica', 'Type', 'DSCD', 'ISIN', 'RIC', 'WC06035', 'WC05601', 'NAME',\n",
    "                                'WTIDX', 'NOSHFF']] # change order of columns\n",
    "    df_index.columns = ['index_ticker', 'monthly_date', 'refinitiv_type', 'datastream_id', 'isin_code', 'ric_code', 'worldscope_code',\n",
    "                       'ticker', 'ds_name', 'company_weight','free_float' ] # change the name\n",
    "    df_index['monthly_date'] = df_index['monthly_date'].apply(obtain_date) # numeric date to datetime\n",
    "    # we append the columns to the databse\n",
    "    df_index.to_sql('index_constituents', sql_engine, index=False, \n",
    "                    if_exists=\"append\", chunksize=100000, method='multi' )\n",
    "    print(index_ticker)\n",
    "    "
   ]
  },
  {
   "cell_type": "code",
   "execution_count": null,
   "metadata": {
    "ExecuteTime": {
     "end_time": "2020-12-31T16:44:04.057081Z",
     "start_time": "2020-12-31T16:39:24.545177Z"
    }
   },
   "outputs": [],
   "source": [
    "monthly_scores = pd.read_excel(r\"C:\\Users\\pablo\\OneDrive - unizar.es\\Artículo 1\\4.1. Descarga capitalización y sectores de las empresas ESG Reuters (7.469)\\Excel central con  tablas de trabajo.xlsm\",\n",
    "                          usecols =\"B:D, R:U, Y\" )\n",
    "\n",
    "all_scores.columns = ['MonthlyDate', 'DsName', 'IsinCode', 'MarketValueUsd', 'EsgScore', 'CombinedScore',\n",
    "       'ControversiesScore', 'WcNation']\n",
    "\n",
    "all_scores.to_sql('CompaniesMonthlyData', sql_engine, chunksize=100000, method='multi', index=False)"
   ]
  },
  {
   "cell_type": "code",
   "execution_count": 13,
   "metadata": {
    "ExecuteTime": {
     "end_time": "2020-12-31T16:44:04.057081Z",
     "start_time": "2020-12-31T16:39:24.545177Z"
    }
   },
   "outputs": [],
   "source": [
    "geo_classification = pd.read_excel(r\"C:\\Users\\pablo\\OneDrive - unizar.es\\Artículo 1\\4.1. Descarga capitalización y sectores de las empresas ESG Reuters (7.469)\\Excel central con  tablas de trabajo.xlsm\",\n",
    "                          sheet_name =\"Info Títulos\" )"
   ]
  },
  {
   "cell_type": "code",
   "execution_count": 18,
   "metadata": {
    "ExecuteTime": {
     "end_time": "2020-12-31T17:25:49.709087Z",
     "start_time": "2020-12-31T17:25:49.702107Z"
    }
   },
   "outputs": [],
   "source": []
  },
  {
   "cell_type": "code",
   "execution_count": 20,
   "metadata": {
    "ExecuteTime": {
     "end_time": "2020-12-31T17:32:18.132185Z",
     "start_time": "2020-12-31T17:29:44.393615Z"
    }
   },
   "outputs": [],
   "source": []
  }
 ],
 "metadata": {
  "hide_input": false,
  "kernelspec": {
   "display_name": "Python 3",
   "language": "python",
   "name": "python3"
  },
  "language_info": {
   "codemirror_mode": {
    "name": "ipython",
    "version": 3
   },
   "file_extension": ".py",
   "mimetype": "text/x-python",
   "name": "python",
   "nbconvert_exporter": "python",
   "pygments_lexer": "ipython3",
   "version": "3.8.0"
  },
  "toc": {
   "base_numbering": 1,
   "nav_menu": {},
   "number_sections": true,
   "sideBar": true,
   "skip_h1_title": false,
   "title_cell": "Table of Contents",
   "title_sidebar": "Contents",
   "toc_cell": false,
   "toc_position": {},
   "toc_section_display": true,
   "toc_window_display": false
  }
 },
 "nbformat": 4,
 "nbformat_minor": 2
}
